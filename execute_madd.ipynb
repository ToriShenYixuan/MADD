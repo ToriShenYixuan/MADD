{
 "cells": [
  {
   "attachments": {},
   "cell_type": "markdown",
   "metadata": {},
   "source": [
    "## Execution of MADD code\n",
    "This notebook will demonstrate a couple of ways to execute the MADD code for different purposes/outputs.\\\n",
    "Change paths and parameters to run."
   ]
  },
  {
   "cell_type": "code",
   "execution_count": null,
   "metadata": {},
   "outputs": [],
   "source": [
    "import madd\n",
    "import pandas as pd"
   ]
  },
  {
   "attachments": {},
   "cell_type": "markdown",
   "metadata": {},
   "source": [
    "#### Running on Binary Attributes\n",
    "The simplest way to run MADD, where two attributes are being compared with each other.\\\n",
    "Ommit bootstrap if you do not want bootstraps, set getGraph = False if you do not want graph."
   ]
  },
  {
   "cell_type": "code",
   "execution_count": null,
   "metadata": {},
   "outputs": [],
   "source": [
    "df = pd.read_csv(\"/Users/shent/Desktop/summer23/fairness/abroca_boot/lens_merged_recon12_100.csv\")\n",
    "df.name=\"Eedi_Small_LENS\"\n",
    "\n",
    "#setting some parameters\n",
    "demographic=\"Gender\"\n",
    "predicted=\"probability_correct\"\n",
    "\n",
    "bin1=1\n",
    "bin2=2\n",
    "\n",
    "nb_decimals=3 # probability density step e = 1*10**(-nb_decimals)\n",
    "madd_val=madd.MADD(df, demographic, bin1, bin2, predicted, nb_decimals, bootstrap=100, getGraph=True)\n",
    "\n",
    "print(f\"{demographic} MADD for {df.name}: {madd_val} \")"
   ]
  },
  {
   "attachments": {},
   "cell_type": "markdown",
   "metadata": {},
   "source": [
    "#### Multi-Classification Attributes\n",
    "Executes for attributes with more than two values to compare.\\\n",
    "\\\n",
    "Run the code block above for pairwise comparison.\\\n",
    "Run the code blocks below for 1-vs-all or 1-vs-others tests.\\\n",
    "Customize the value of bin2 as \"all\" or \"other\"."
   ]
  },
  {
   "cell_type": "code",
   "execution_count": null,
   "metadata": {},
   "outputs": [],
   "source": [
    "# These are all the same as above\n",
    "df = pd.read_csv(\"/Users/shent/Desktop/summer23/fairness/madd_boot/MAP_medium_recon_meta.csv\")\n",
    "\n",
    "df.name=\"MAP_medium\" # the name of the output folder\n",
    "actual=\"correct\"\n",
    "predicted=\"probability_correct\"\n",
    "bootstrap=10    # customize \n",
    "\n",
    "demographic=\"STUDENT_ETHNIC_GRD_KEY\""
   ]
  },
  {
   "cell_type": "code",
   "execution_count": null,
   "metadata": {},
   "outputs": [],
   "source": [
    "#customize here\n",
    "bin2=\"other\"  # bin2 = \"other\" or bin2 = \"all\""
   ]
  },
  {
   "cell_type": "code",
   "execution_count": null,
   "metadata": {},
   "outputs": [],
   "source": [
    "for bin1 in range (1,9):\n",
    "    single_madd_val=madd.MADD(df, demographic, bin1, bin2, predicted, nb_decimals) #bootstrap defaults to False\n",
    "    madd_val+=single_madd_val  #aggregating the values through sum\n",
    "\n",
    "print(f\"{demographic} MADD 1 vs all sum for {df.name}: {madd_val} \")"
   ]
  }
 ],
 "metadata": {
  "language_info": {
   "name": "python"
  },
  "orig_nbformat": 4
 },
 "nbformat": 4,
 "nbformat_minor": 2
}
